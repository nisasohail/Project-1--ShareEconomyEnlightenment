{
 "cells": [
  {
   "cell_type": "code",
   "execution_count": 1,
   "metadata": {},
   "outputs": [],
   "source": [
    "import numpy as np\n",
    "import matplotlib.pyplot as plt\n",
    "import pandas as pd"
   ]
  },
  {
   "cell_type": "code",
   "execution_count": 2,
   "metadata": {},
   "outputs": [],
   "source": [
    "file1 = \"Total_by_Date.csv\""
   ]
  },
  {
   "cell_type": "code",
   "execution_count": 3,
   "metadata": {},
   "outputs": [
    {
     "data": {
      "text/html": [
       "<div>\n",
       "<style scoped>\n",
       "    .dataframe tbody tr th:only-of-type {\n",
       "        vertical-align: middle;\n",
       "    }\n",
       "\n",
       "    .dataframe tbody tr th {\n",
       "        vertical-align: top;\n",
       "    }\n",
       "\n",
       "    .dataframe thead th {\n",
       "        text-align: right;\n",
       "    }\n",
       "</style>\n",
       "<table border=\"1\" class=\"dataframe\">\n",
       "  <thead>\n",
       "    <tr style=\"text-align: right;\">\n",
       "      <th></th>\n",
       "      <th>date_of_listing</th>\n",
       "      <th>Total_Listings_in_Month</th>\n",
       "    </tr>\n",
       "  </thead>\n",
       "  <tbody>\n",
       "    <tr>\n",
       "      <th>0</th>\n",
       "      <td>1/1/2010</td>\n",
       "      <td>1</td>\n",
       "    </tr>\n",
       "    <tr>\n",
       "      <th>1</th>\n",
       "      <td>1/1/2012</td>\n",
       "      <td>9</td>\n",
       "    </tr>\n",
       "    <tr>\n",
       "      <th>2</th>\n",
       "      <td>1/1/2013</td>\n",
       "      <td>12</td>\n",
       "    </tr>\n",
       "    <tr>\n",
       "      <th>3</th>\n",
       "      <td>1/1/2014</td>\n",
       "      <td>28</td>\n",
       "    </tr>\n",
       "    <tr>\n",
       "      <th>4</th>\n",
       "      <td>1/1/2015</td>\n",
       "      <td>42</td>\n",
       "    </tr>\n",
       "  </tbody>\n",
       "</table>\n",
       "</div>"
      ],
      "text/plain": [
       "  date_of_listing  Total_Listings_in_Month\n",
       "0        1/1/2010                        1\n",
       "1        1/1/2012                        9\n",
       "2        1/1/2013                       12\n",
       "3        1/1/2014                       28\n",
       "4        1/1/2015                       42"
      ]
     },
     "execution_count": 3,
     "metadata": {},
     "output_type": "execute_result"
    }
   ],
   "source": [
    "df1 = pd.read_csv(file1)\n",
    "df1.head()"
   ]
  },
  {
   "cell_type": "code",
   "execution_count": 4,
   "metadata": {},
   "outputs": [],
   "source": [
    "df1['date_of_listing'] =  pd.to_datetime(df1['date_of_listing'], format='%m/%d/%Y')"
   ]
  },
  {
   "cell_type": "code",
   "execution_count": 5,
   "metadata": {},
   "outputs": [],
   "source": [
    "df2=df1.sort_values('date_of_listing')"
   ]
  },
  {
   "cell_type": "code",
   "execution_count": 6,
   "metadata": {},
   "outputs": [],
   "source": [
    "x_axis=df2['date_of_listing'].tolist()\n",
    "listingnumbers=df2['Total_Listings_in_Month'].tolist()"
   ]
  },
  {
   "cell_type": "code",
   "execution_count": 8,
   "metadata": {},
   "outputs": [
    {
     "data": {
      "image/png": "[encoded data removed]",
      "text/plain": [
       "<Figure size 432x288 with 1 Axes>"
      ]
     },
     "metadata": {
      "needs_background": "light"
     },
     "output_type": "display_data"
    }
   ],
   "source": [
    "plt.plot(x_axis, listingnumbers)\n",
    "plt.title(\"Airbnb Total Listings over time\")\n",
    "plt.xlabel(\"Date of Listing\")\n",
    "plt.ylabel(\"Total Listings\")\n",
    "plt.plot(x_axis, listingnumbers)\n",
    "plt.savefig(\"AirBNB_Over_Time.png\")\n",
    "plt.show()"
   ]
  },
  {
   "cell_type": "code",
   "execution_count": 9,
   "metadata": {},
   "outputs": [],
   "source": [
    "file_Austin=\"Total_by_Date_Austin.csv\"\n",
    "file_Dallas=\"Total_by_Date_Dallas.csv\"\n",
    "file_Houston=\"Total_by_Date_Houston.csv\"\n",
    "file_FortW=\"Total_by_Date_Fort_Worth.csv\"\n",
    "file_San_Antonio=\"Total_by_Date_San_Antonio.csv\""
   ]
  },
  {
   "cell_type": "code",
   "execution_count": 10,
   "metadata": {},
   "outputs": [],
   "source": [
    "dfHouston = pd.read_csv(file_Houston)\n",
    "dfAustin = pd.read_csv(file_Austin)\n",
    "dfDallas = pd.read_csv(file_Dallas)\n",
    "dfFortW = pd.read_csv(file_FortW)\n",
    "dfSanAntonio = pd.read_csv(file_San_Antonio)"
   ]
  },
  {
   "cell_type": "code",
   "execution_count": 11,
   "metadata": {},
   "outputs": [],
   "source": [
    "dfHouston['date_of_listing'] =  pd.to_datetime(df1['date_of_listing'], format='%m/%d/%Y')\n",
    "dfAustin['date_of_listing'] =  pd.to_datetime(df1['date_of_listing'], format='%m/%d/%Y')\n",
    "dfDallas['date_of_listing'] =  pd.to_datetime(df1['date_of_listing'], format='%m/%d/%Y')\n",
    "dfFortW['date_of_listing'] =  pd.to_datetime(df1['date_of_listing'], format='%m/%d/%Y')\n",
    "dfSanAntonio['date_of_listing'] =  pd.to_datetime(df1['date_of_listing'], format='%m/%d/%Y')"
   ]
  },
  {
   "cell_type": "code",
   "execution_count": 12,
   "metadata": {},
   "outputs": [],
   "source": [
    "dfHouston2=dfHouston.sort_values('date_of_listing')\n",
    "dfAustin2=dfAustin.sort_values('date_of_listing')\n",
    "dfDallas2=dfDallas.sort_values('date_of_listing')\n",
    "dfFortW2=dfFortW.sort_values('date_of_listing')\n",
    "dfSanAntonio2=dfSanAntonio.sort_values('date_of_listing')"
   ]
  },
  {
   "cell_type": "code",
   "execution_count": 15,
   "metadata": {},
   "outputs": [],
   "source": [
    "listingnumbers_Houston=dfHouston2['Total_Listings_in_Month_Houston'].tolist()\n",
    "x_axis_Houston=dfHouston2['date_of_listing'].tolist()\n",
    "listingnumbers_Austin=dfAustin2['Total_Listings_in_Month_Austin'].tolist()\n",
    "x_axis_Austin=dfAustin2['date_of_listing'].tolist()\n",
    "listingnumbers_Dallas=dfDallas2['Total_Listings_in_Month_Dallas'].tolist()\n",
    "x_axis_Dallas=dfDallas2['date_of_listing'].tolist()\n",
    "listingnumbers_San_Antonio=dfSanAntonio2['Total_Listings_in_Month_San_Antonio'].tolist()\n",
    "x_axis_San_Antonio=dfSanAntonio2['date_of_listing'].tolist()\n",
    "listingnumbers_FortW=dfFortW2['Total_Listings_in_Month_Fort_Worth'].tolist()\n",
    "x_axis_FortW=dfFortW2['date_of_listing'].tolist()"
   ]
  },
  {
   "cell_type": "code",
   "execution_count": 16,
   "metadata": {},
   "outputs": [
    {
     "data": {
      "image/png": "[encoded data removed]",
      "text/plain": [
       "<Figure size 432x288 with 1 Axes>"
      ]
     },
     "metadata": {
      "needs_background": "light"
     },
     "output_type": "display_data"
    }
   ],
   "source": [
    "houston, = plt.plot(x_axis_Houston, listingnumbers_Houston,color=\"blue\",marker='s',MarkerSize = 3,linewidth=1, label=\"Houston\")\n",
    "austin, = plt.plot(x_axis_Austin, listingnumbers_Austin,color=\"red\",marker='s',MarkerSize = 3,linewidth=1, label=\"Austin\")\n",
    "sanantonio, = plt.plot(x_axis_San_Antonio, listingnumbers_San_Antonio,color=\"green\",marker='s',MarkerSize = 3,linewidth=1, label=\"San Antonio\")\n",
    "fortworth, = plt.plot(x_axis_FortW, listingnumbers_FortW,color=\"orange\",marker='s',MarkerSize = 3,linewidth=1, label=\"Fort Worth\")\n",
    "dallas, = plt.plot(x_axis_Dallas, listingnumbers_Dallas,color=\"indigo\",marker='s',MarkerSize = 3,linewidth=1, label=\"Dallas\")\n",
    "plt.legend(loc=\"best\")\n",
    "plt.title(\"Number of Listings for Top 5 Cities\")\n",
    "plt.xlabel(\"Date of Listing\")\n",
    "plt.ylabel(\"Listings\")\n",
    "plt.savefig(\"Number_Listiings_Top_5.png\")\n",
    "plt.show()"
   ]
  },
  {
   "cell_type": "code",
   "execution_count": 17,
   "metadata": {},
   "outputs": [
    {
     "data": {
      "text/html": [
       "<div>\n",
       "<style scoped>\n",
       "    .dataframe tbody tr th:only-of-type {\n",
       "        vertical-align: middle;\n",
       "    }\n",
       "\n",
       "    .dataframe tbody tr th {\n",
       "        vertical-align: top;\n",
       "    }\n",
       "\n",
       "    .dataframe thead th {\n",
       "        text-align: right;\n",
       "    }\n",
       "</style>\n",
       "<table border=\"1\" class=\"dataframe\">\n",
       "  <thead>\n",
       "    <tr style=\"text-align: right;\">\n",
       "      <th></th>\n",
       "      <th>City</th>\n",
       "      <th>Total_Listings_in_City</th>\n",
       "    </tr>\n",
       "  </thead>\n",
       "  <tbody>\n",
       "    <tr>\n",
       "      <th>0</th>\n",
       "      <td>Houston</td>\n",
       "      <td>414</td>\n",
       "    </tr>\n",
       "    <tr>\n",
       "      <th>1</th>\n",
       "      <td>Dallas</td>\n",
       "      <td>288</td>\n",
       "    </tr>\n",
       "    <tr>\n",
       "      <th>2</th>\n",
       "      <td>Austin</td>\n",
       "      <td>245</td>\n",
       "    </tr>\n",
       "    <tr>\n",
       "      <th>3</th>\n",
       "      <td>San Antonio</td>\n",
       "      <td>199</td>\n",
       "    </tr>\n",
       "    <tr>\n",
       "      <th>4</th>\n",
       "      <td>Fort Worth</td>\n",
       "      <td>181</td>\n",
       "    </tr>\n",
       "  </tbody>\n",
       "</table>\n",
       "</div>"
      ],
      "text/plain": [
       "          City  Total_Listings_in_City\n",
       "0      Houston                     414\n",
       "1       Dallas                     288\n",
       "2       Austin                     245\n",
       "3  San Antonio                     199\n",
       "4   Fort Worth                     181"
      ]
     },
     "execution_count": 17,
     "metadata": {},
     "output_type": "execute_result"
    }
   ],
   "source": [
    "file3=\"CityCountDF.csv\"\n",
    "df4 = pd.read_csv(file3)\n",
    "df4=df4.rename(columns={\"Unnamed: 0\": \"City\"})\n",
    "df4.head()"
   ]
  },
  {
   "cell_type": "code",
   "execution_count": 15,
   "metadata": {},
   "outputs": [
    {
     "data": {
      "text/html": [
       "<div>\n",
       "<style scoped>\n",
       "    .dataframe tbody tr th:only-of-type {\n",
       "        vertical-align: middle;\n",
       "    }\n",
       "\n",
       "    .dataframe tbody tr th {\n",
       "        vertical-align: top;\n",
       "    }\n",
       "\n",
       "    .dataframe thead th {\n",
       "        text-align: right;\n",
       "    }\n",
       "</style>\n",
       "<table border=\"1\" class=\"dataframe\">\n",
       "  <thead>\n",
       "    <tr style=\"text-align: right;\">\n",
       "      <th></th>\n",
       "      <th>City</th>\n",
       "      <th>Total_Listings_in_City</th>\n",
       "      <th>Percent_of_Listings</th>\n",
       "    </tr>\n",
       "  </thead>\n",
       "  <tbody>\n",
       "    <tr>\n",
       "      <th>0</th>\n",
       "      <td>Houston</td>\n",
       "      <td>414</td>\n",
       "      <td>12.33</td>\n",
       "    </tr>\n",
       "    <tr>\n",
       "      <th>1</th>\n",
       "      <td>Dallas</td>\n",
       "      <td>288</td>\n",
       "      <td>8.57</td>\n",
       "    </tr>\n",
       "    <tr>\n",
       "      <th>2</th>\n",
       "      <td>Austin</td>\n",
       "      <td>245</td>\n",
       "      <td>7.29</td>\n",
       "    </tr>\n",
       "    <tr>\n",
       "      <th>3</th>\n",
       "      <td>San Antonio</td>\n",
       "      <td>199</td>\n",
       "      <td>5.92</td>\n",
       "    </tr>\n",
       "    <tr>\n",
       "      <th>4</th>\n",
       "      <td>Fort Worth</td>\n",
       "      <td>181</td>\n",
       "      <td>5.39</td>\n",
       "    </tr>\n",
       "    <tr>\n",
       "      <th>5</th>\n",
       "      <td>Corpus Christi</td>\n",
       "      <td>152</td>\n",
       "      <td>4.53</td>\n",
       "    </tr>\n",
       "    <tr>\n",
       "      <th>6</th>\n",
       "      <td>Galveston</td>\n",
       "      <td>87</td>\n",
       "      <td>2.59</td>\n",
       "    </tr>\n",
       "    <tr>\n",
       "      <th>7</th>\n",
       "      <td>McKinney</td>\n",
       "      <td>86</td>\n",
       "      <td>2.56</td>\n",
       "    </tr>\n",
       "    <tr>\n",
       "      <th>8</th>\n",
       "      <td>Arlington</td>\n",
       "      <td>83</td>\n",
       "      <td>2.47</td>\n",
       "    </tr>\n",
       "    <tr>\n",
       "      <th>9</th>\n",
       "      <td>Denton</td>\n",
       "      <td>70</td>\n",
       "      <td>2.08</td>\n",
       "    </tr>\n",
       "  </tbody>\n",
       "</table>\n",
       "</div>"
      ],
      "text/plain": [
       "             City  Total_Listings_in_City  Percent_of_Listings\n",
       "0         Houston                     414                12.33\n",
       "1          Dallas                     288                 8.57\n",
       "2          Austin                     245                 7.29\n",
       "3     San Antonio                     199                 5.92\n",
       "4      Fort Worth                     181                 5.39\n",
       "5  Corpus Christi                     152                 4.53\n",
       "6       Galveston                      87                 2.59\n",
       "7        McKinney                      86                 2.56\n",
       "8       Arlington                      83                 2.47\n",
       "9          Denton                      70                 2.08"
      ]
     },
     "execution_count": 15,
     "metadata": {},
     "output_type": "execute_result"
    }
   ],
   "source": [
    "a = df4['Total_Listings_in_City'].tolist()\n",
    "b = a\n",
    "a[:] = [round((x/3359*100), 2) for x in a]\n",
    "df4['Percent_of_Listings']=b\n",
    "df5=df4.head(10)\n",
    "df5"
   ]
  },
  {
   "cell_type": "code",
   "execution_count": 18,
   "metadata": {},
   "outputs": [
    {
     "data": {
      "text/html": [
       "<div>\n",
       "<style scoped>\n",
       "    .dataframe tbody tr th:only-of-type {\n",
       "        vertical-align: middle;\n",
       "    }\n",
       "\n",
       "    .dataframe tbody tr th {\n",
       "        vertical-align: top;\n",
       "    }\n",
       "\n",
       "    .dataframe thead th {\n",
       "        text-align: right;\n",
       "    }\n",
       "</style>\n",
       "<table border=\"1\" class=\"dataframe\">\n",
       "  <thead>\n",
       "    <tr style=\"text-align: right;\">\n",
       "      <th></th>\n",
       "      <th>City</th>\n",
       "      <th>Avg_Rate_Float</th>\n",
       "    </tr>\n",
       "  </thead>\n",
       "  <tbody>\n",
       "    <tr>\n",
       "      <th>0</th>\n",
       "      <td>Abilene</td>\n",
       "      <td>168.476190</td>\n",
       "    </tr>\n",
       "    <tr>\n",
       "      <th>1</th>\n",
       "      <td>Addison</td>\n",
       "      <td>75.500000</td>\n",
       "    </tr>\n",
       "    <tr>\n",
       "      <th>2</th>\n",
       "      <td>Aledo</td>\n",
       "      <td>79.000000</td>\n",
       "    </tr>\n",
       "    <tr>\n",
       "      <th>3</th>\n",
       "      <td>Allen</td>\n",
       "      <td>126.625000</td>\n",
       "    </tr>\n",
       "    <tr>\n",
       "      <th>4</th>\n",
       "      <td>Alpine</td>\n",
       "      <td>101.285714</td>\n",
       "    </tr>\n",
       "  </tbody>\n",
       "</table>\n",
       "</div>"
      ],
      "text/plain": [
       "      City  Avg_Rate_Float\n",
       "0  Abilene      168.476190\n",
       "1  Addison       75.500000\n",
       "2    Aledo       79.000000\n",
       "3    Allen      126.625000\n",
       "4   Alpine      101.285714"
      ]
     },
     "execution_count": 18,
     "metadata": {},
     "output_type": "execute_result"
    }
   ],
   "source": [
    "file7=\"Avg_Rate_by_City.csv\"\n",
    "df7 = pd.read_csv(file7)\n",
    "df7.head()"
   ]
  },
  {
   "cell_type": "code",
   "execution_count": 19,
   "metadata": {},
   "outputs": [
    {
     "data": {
      "text/html": [
       "<div>\n",
       "<style scoped>\n",
       "    .dataframe tbody tr th:only-of-type {\n",
       "        vertical-align: middle;\n",
       "    }\n",
       "\n",
       "    .dataframe tbody tr th {\n",
       "        vertical-align: top;\n",
       "    }\n",
       "\n",
       "    .dataframe thead th {\n",
       "        text-align: right;\n",
       "    }\n",
       "</style>\n",
       "<table border=\"1\" class=\"dataframe\">\n",
       "  <thead>\n",
       "    <tr style=\"text-align: right;\">\n",
       "      <th></th>\n",
       "      <th>City</th>\n",
       "      <th>Total_Listings_in_City</th>\n",
       "      <th>Avg_Rate_Float</th>\n",
       "    </tr>\n",
       "  </thead>\n",
       "  <tbody>\n",
       "    <tr>\n",
       "      <th>0</th>\n",
       "      <td>Houston</td>\n",
       "      <td>414</td>\n",
       "      <td>96.364734</td>\n",
       "    </tr>\n",
       "    <tr>\n",
       "      <th>1</th>\n",
       "      <td>Dallas</td>\n",
       "      <td>288</td>\n",
       "      <td>105.715278</td>\n",
       "    </tr>\n",
       "    <tr>\n",
       "      <th>2</th>\n",
       "      <td>Austin</td>\n",
       "      <td>245</td>\n",
       "      <td>131.918367</td>\n",
       "    </tr>\n",
       "    <tr>\n",
       "      <th>3</th>\n",
       "      <td>San Antonio</td>\n",
       "      <td>199</td>\n",
       "      <td>85.437186</td>\n",
       "    </tr>\n",
       "    <tr>\n",
       "      <th>4</th>\n",
       "      <td>Fort Worth</td>\n",
       "      <td>181</td>\n",
       "      <td>108.232044</td>\n",
       "    </tr>\n",
       "    <tr>\n",
       "      <th>5</th>\n",
       "      <td>Corpus Christi</td>\n",
       "      <td>152</td>\n",
       "      <td>234.467105</td>\n",
       "    </tr>\n",
       "    <tr>\n",
       "      <th>6</th>\n",
       "      <td>Galveston</td>\n",
       "      <td>87</td>\n",
       "      <td>187.045977</td>\n",
       "    </tr>\n",
       "    <tr>\n",
       "      <th>7</th>\n",
       "      <td>McKinney</td>\n",
       "      <td>86</td>\n",
       "      <td>115.581395</td>\n",
       "    </tr>\n",
       "    <tr>\n",
       "      <th>8</th>\n",
       "      <td>Arlington</td>\n",
       "      <td>83</td>\n",
       "      <td>112.289157</td>\n",
       "    </tr>\n",
       "    <tr>\n",
       "      <th>9</th>\n",
       "      <td>Denton</td>\n",
       "      <td>70</td>\n",
       "      <td>59.500000</td>\n",
       "    </tr>\n",
       "    <tr>\n",
       "      <th>10</th>\n",
       "      <td>Rockport</td>\n",
       "      <td>60</td>\n",
       "      <td>305.233333</td>\n",
       "    </tr>\n",
       "    <tr>\n",
       "      <th>11</th>\n",
       "      <td>College Station</td>\n",
       "      <td>53</td>\n",
       "      <td>220.792453</td>\n",
       "    </tr>\n",
       "    <tr>\n",
       "      <th>12</th>\n",
       "      <td>League City</td>\n",
       "      <td>43</td>\n",
       "      <td>141.139535</td>\n",
       "    </tr>\n",
       "    <tr>\n",
       "      <th>13</th>\n",
       "      <td>Plano</td>\n",
       "      <td>40</td>\n",
       "      <td>81.250000</td>\n",
       "    </tr>\n",
       "    <tr>\n",
       "      <th>14</th>\n",
       "      <td>Richmond</td>\n",
       "      <td>39</td>\n",
       "      <td>126.435897</td>\n",
       "    </tr>\n",
       "  </tbody>\n",
       "</table>\n",
       "</div>"
      ],
      "text/plain": [
       "               City  Total_Listings_in_City  Avg_Rate_Float\n",
       "0           Houston                     414       96.364734\n",
       "1            Dallas                     288      105.715278\n",
       "2            Austin                     245      131.918367\n",
       "3       San Antonio                     199       85.437186\n",
       "4        Fort Worth                     181      108.232044\n",
       "5    Corpus Christi                     152      234.467105\n",
       "6         Galveston                      87      187.045977\n",
       "7          McKinney                      86      115.581395\n",
       "8         Arlington                      83      112.289157\n",
       "9            Denton                      70       59.500000\n",
       "10         Rockport                      60      305.233333\n",
       "11  College Station                      53      220.792453\n",
       "12      League City                      43      141.139535\n",
       "13            Plano                      40       81.250000\n",
       "14         Richmond                      39      126.435897"
      ]
     },
     "execution_count": 19,
     "metadata": {},
     "output_type": "execute_result"
    }
   ],
   "source": [
    "df10=df4.merge(df7)\n",
    "df11=df10.head(15)\n",
    "df11"
   ]
  },
  {
   "cell_type": "code",
   "execution_count": 20,
   "metadata": {},
   "outputs": [
    {
     "data": {
      "image/png": "[encoded data removed]",
      "text/plain": [
       "<Figure size 432x288 with 1 Axes>"
      ]
     },
     "metadata": {
      "needs_background": "light"
     },
     "output_type": "display_data"
    }
   ],
   "source": [
    "ax = df11.plot.bar(x='City', y='Total_Listings_in_City', rot=90)\n",
    "plt.ylabel(\"Number of Listings\")\n",
    "ax.legend(['Total Listings in City'])\n",
    "plt.title(\"Fifteen Most Popular Cities by Listing Numbers\")\n",
    "plt.savefig(\"Most_Popular_Total_Listings.png\")\n",
    "plt.show()"
   ]
  },
  {
   "cell_type": "code",
   "execution_count": 21,
   "metadata": {},
   "outputs": [
    {
     "data": {
      "image/png": "[encoded data removed]",
      "text/plain": [
       "<Figure size 432x288 with 1 Axes>"
      ]
     },
     "metadata": {
      "needs_background": "light"
     },
     "output_type": "display_data"
    }
   ],
   "source": [
    "ax2= df11.plot.bar(x='City', y='Avg_Rate_Float', rot=90 )\n",
    "plt.ylabel(\"Dollars\")\n",
    "ax2.legend(['Average Cost of AirBNB in City'])\n",
    "plt.title(\"The Cost of an AirBNB in the Fifteen Most Popular Cities\")\n",
    "plt.savefig(\"Most_Popular_Cost.png\")\n",
    "plt.show()"
   ]
  },
  {
   "cell_type": "code",
   "execution_count": null,
   "metadata": {},
   "outputs": [],
   "source": []
  }
 ],
 "metadata": {
  "kernelspec": {
   "display_name": "Python 3",
   "language": "python",
   "name": "python3"
  },
  "language_info": {
   "codemirror_mode": {
    "name": "ipython",
    "version": 3
   },
   "file_extension": ".py",
   "mimetype": "text/x-python",
   "name": "python",
   "nbconvert_exporter": "python",
   "pygments_lexer": "ipython3",
   "version": "3.7.3"
  }
 },
 "nbformat": 4,
 "nbformat_minor": 2
}
