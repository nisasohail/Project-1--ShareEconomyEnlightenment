{
 "cells": [
  {
   "cell_type": "code",
   "execution_count": 3,
   "metadata": {},
   "outputs": [],
   "source": [
    "import gmaps\n",
    "import numpy as np\n",
    "import pandas as pd\n",
    "import requests\n",
    "import json\n",
    "from time import sleep\n",
    "import os\n",
    "from geopy.geocoders import Nominatim"
   ]
  },
  {
   "cell_type": "code",
   "execution_count": 2,
   "metadata": {},
   "outputs": [
    {
     "name": "stdout",
     "output_type": "stream",
     "text": [
      "Collecting geopy\n",
      "  Downloading https://files.pythonhosted.org/packages/80/93/d384479da0ead712bdaf697a8399c13a9a89bd856ada5a27d462fb45e47b/geopy-1.20.0-py2.py3-none-any.whl (100kB)\n",
      "Collecting geographiclib<2,>=1.49 (from geopy)\n",
      "  Downloading https://files.pythonhosted.org/packages/5b/ac/4f348828091490d77899bc74e92238e2b55c59392f21948f296e94e50e2b/geographiclib-1.49.tar.gz\n",
      "Building wheels for collected packages: geographiclib\n",
      "  Building wheel for geographiclib (setup.py): started\n",
      "  Building wheel for geographiclib (setup.py): finished with status 'done'\n",
      "  Stored in directory: C:\\Users\\Nader\\AppData\\Local\\pip\\Cache\\wheels\\99\\45\\d1\\14954797e2a976083182c2e7da9b4e924509e59b6e5c661061\n",
      "Successfully built geographiclib\n",
      "Installing collected packages: geographiclib, geopy\n",
      "Successfully installed geographiclib-1.49 geopy-1.20.0\n",
      "Note: you may need to restart the kernel to use updated packages.\n"
     ]
    }
   ],
   "source": [
    "pip install geopy"
   ]
  },
  {
   "cell_type": "code",
   "execution_count": 4,
   "metadata": {},
   "outputs": [],
   "source": [
    "dflisting = pd.read_csv(\"../ShareEconomyEnlightenment/Resources/Airbnb_Texas_Rentals.csv\")\n",
    "# dflisting.head(1)"
   ]
  },
  {
   "cell_type": "code",
   "execution_count": 5,
   "metadata": {},
   "outputs": [],
   "source": [
    "dflisting.rename(columns={'Unnamed: 0': 'id'}, inplace=True)\n",
    "# dflisting.columns"
   ]
  },
  {
   "cell_type": "code",
   "execution_count": 6,
   "metadata": {},
   "outputs": [],
   "source": [
    "# dflisting[['Unnamed: ']] = \"id\"\n",
    "dfLL = dflisting[['id','city','latitude','longitude']]\n",
    "# dflisting\n",
    "# dflisting.columns"
   ]
  },
  {
   "cell_type": "code",
   "execution_count": 7,
   "metadata": {},
   "outputs": [
    {
     "name": "stdout",
     "output_type": "stream",
     "text": [
      "565, Woodcrest Drive, Oak Park, San Antonio, Bexar County, Texas, 78209, USA\n"
     ]
    }
   ],
   "source": [
    "geolocator = Nominatim(user_agent=\"SharedEconomyComparitor\")\n",
    "location = geolocator.reverse(\"29.50308,-98.447688\")\n",
    "print(location.address)"
   ]
  },
  {
   "cell_type": "code",
   "execution_count": 15,
   "metadata": {},
   "outputs": [],
   "source": [
    "# sleep(0.5)"
   ]
  },
  {
   "cell_type": "code",
   "execution_count": 8,
   "metadata": {},
   "outputs": [],
   "source": [
    "listAddress = [['id','City','Address','lat','lon']]\n",
    "\n",
    "for index, row in dfLL.head(5).iterrows():\n",
    "# for city in cities:\n",
    "    try:\n",
    "        latLon = str(row.latitude) +',' + str(row.longitude)\n",
    "        location = geolocator.reverse(latLon)\n",
    "#     print(location)\n",
    "        addList = [row.id, row.city, location[0], row.latitude, row.longitude]\n",
    "#         print (addList)\n",
    "        listAddress.append(addList)\n",
    "        sleep(0.5)\n",
    "    except:\n",
    "        print(\"An exception occurred for \" + row.city)\n",
    "        print(index)\n",
    "# listAddress"
   ]
  },
  {
   "cell_type": "code",
   "execution_count": 9,
   "metadata": {},
   "outputs": [
    {
     "data": {
      "text/html": [
       "<div>\n",
       "<style scoped>\n",
       "    .dataframe tbody tr th:only-of-type {\n",
       "        vertical-align: middle;\n",
       "    }\n",
       "\n",
       "    .dataframe tbody tr th {\n",
       "        vertical-align: top;\n",
       "    }\n",
       "\n",
       "    .dataframe thead th {\n",
       "        text-align: right;\n",
       "    }\n",
       "</style>\n",
       "<table border=\"1\" class=\"dataframe\">\n",
       "  <thead>\n",
       "    <tr style=\"text-align: right;\">\n",
       "      <th></th>\n",
       "      <th>id</th>\n",
       "      <th>City</th>\n",
       "      <th>Address</th>\n",
       "      <th>lat</th>\n",
       "      <th>lon</th>\n",
       "    </tr>\n",
       "  </thead>\n",
       "  <tbody>\n",
       "    <tr>\n",
       "      <th>1</th>\n",
       "      <td>1</td>\n",
       "      <td>Humble</td>\n",
       "      <td>20521, Kenswick Drive, Bordersville, Harris Co...</td>\n",
       "      <td>30.0201</td>\n",
       "      <td>-95.294</td>\n",
       "    </tr>\n",
       "    <tr>\n",
       "      <th>2</th>\n",
       "      <td>2</td>\n",
       "      <td>San Antonio</td>\n",
       "      <td>565, Woodcrest Drive, Oak Park, San Antonio, B...</td>\n",
       "      <td>29.5031</td>\n",
       "      <td>-98.4477</td>\n",
       "    </tr>\n",
       "    <tr>\n",
       "      <th>3</th>\n",
       "      <td>3</td>\n",
       "      <td>Houston</td>\n",
       "      <td>19317, Rio Villa Drive, Highlands, Harris Coun...</td>\n",
       "      <td>29.8294</td>\n",
       "      <td>-95.0815</td>\n",
       "    </tr>\n",
       "    <tr>\n",
       "      <th>4</th>\n",
       "      <td>4</td>\n",
       "      <td>Bryan</td>\n",
       "      <td>775, Inwood Drive, Bryan, Brazos County, Texas...</td>\n",
       "      <td>30.6373</td>\n",
       "      <td>-96.3378</td>\n",
       "    </tr>\n",
       "    <tr>\n",
       "      <th>5</th>\n",
       "      <td>5</td>\n",
       "      <td>Fort Worth</td>\n",
       "      <td>2723, East Carter Avenue, Fort Worth, Tarrant ...</td>\n",
       "      <td>32.7471</td>\n",
       "      <td>-97.2864</td>\n",
       "    </tr>\n",
       "  </tbody>\n",
       "</table>\n",
       "</div>"
      ],
      "text/plain": [
       "  id         City                                            Address      lat  \\\n",
       "1  1       Humble  20521, Kenswick Drive, Bordersville, Harris Co...  30.0201   \n",
       "2  2  San Antonio  565, Woodcrest Drive, Oak Park, San Antonio, B...  29.5031   \n",
       "3  3      Houston  19317, Rio Villa Drive, Highlands, Harris Coun...  29.8294   \n",
       "4  4        Bryan  775, Inwood Drive, Bryan, Brazos County, Texas...  30.6373   \n",
       "5  5   Fort Worth  2723, East Carter Avenue, Fort Worth, Tarrant ...  32.7471   \n",
       "\n",
       "       lon  \n",
       "1  -95.294  \n",
       "2 -98.4477  \n",
       "3 -95.0815  \n",
       "4 -96.3378  \n",
       "5 -97.2864  "
      ]
     },
     "execution_count": 9,
     "metadata": {},
     "output_type": "execute_result"
    }
   ],
   "source": [
    "df = pd.DataFrame(listAddress,columns=['id','City','Address', 'lat','lon'])\n",
    "df = df[df.City != 'City']\n",
    "df"
   ]
  },
  {
   "cell_type": "code",
   "execution_count": 18,
   "metadata": {},
   "outputs": [],
   "source": [
    "# # Potsdamer Platz, Mitte, Berlin, 10117, Deutschland, European Union\n",
    "# print((location.latitude, location.longitude))\n",
    "# (52.5094982, 13.3765983)"
   ]
  },
  {
   "cell_type": "code",
   "execution_count": 10,
   "metadata": {},
   "outputs": [
    {
     "data": {
      "text/html": [
       "<div>\n",
       "<style scoped>\n",
       "    .dataframe tbody tr th:only-of-type {\n",
       "        vertical-align: middle;\n",
       "    }\n",
       "\n",
       "    .dataframe tbody tr th {\n",
       "        vertical-align: top;\n",
       "    }\n",
       "\n",
       "    .dataframe thead th {\n",
       "        text-align: right;\n",
       "    }\n",
       "</style>\n",
       "<table border=\"1\" class=\"dataframe\">\n",
       "  <thead>\n",
       "    <tr style=\"text-align: right;\">\n",
       "      <th></th>\n",
       "      <th>Unnamed: 0</th>\n",
       "      <th>id</th>\n",
       "      <th>City</th>\n",
       "      <th>Address</th>\n",
       "      <th>lat</th>\n",
       "      <th>lon</th>\n",
       "    </tr>\n",
       "  </thead>\n",
       "  <tbody>\n",
       "    <tr>\n",
       "      <th>0</th>\n",
       "      <td>1</td>\n",
       "      <td>4</td>\n",
       "      <td>Bryan</td>\n",
       "      <td>775, Inwood Drive, Bryan, Brazos County, Texas...</td>\n",
       "      <td>30.637304</td>\n",
       "      <td>-96.337846</td>\n",
       "    </tr>\n",
       "    <tr>\n",
       "      <th>1</th>\n",
       "      <td>2</td>\n",
       "      <td>6</td>\n",
       "      <td>Conroe</td>\n",
       "      <td>9163, Red Stag, Montgomery County, Texas, 7730...</td>\n",
       "      <td>30.370455</td>\n",
       "      <td>-95.385319</td>\n",
       "    </tr>\n",
       "  </tbody>\n",
       "</table>\n",
       "</div>"
      ],
      "text/plain": [
       "   Unnamed: 0  id    City                                            Address  \\\n",
       "0           1   4   Bryan  775, Inwood Drive, Bryan, Brazos County, Texas...   \n",
       "1           2   6  Conroe  9163, Red Stag, Montgomery County, Texas, 7730...   \n",
       "\n",
       "         lat        lon  \n",
       "0  30.637304 -96.337846  \n",
       "1  30.370455 -95.385319  "
      ]
     },
     "execution_count": 10,
     "metadata": {},
     "output_type": "execute_result"
    }
   ],
   "source": [
    "# print(\n",
    "# df.to_csv(r'../ShareEconomyEnlightenment/Resources/Airbnb_Texas_Rentals_address_FULL.csv')\n",
    "df = pd.read_csv('../ShareEconomyEnlightenment/Resources/Airbnb_Texas_Rentals_address_FULL.csv')\n",
    "df.head(2)"
   ]
  },
  {
   "cell_type": "code",
   "execution_count": null,
   "metadata": {},
   "outputs": [],
   "source": [
    "# for index, row in dfLL.iterrows():\n",
    "#      print(index, row)"
   ]
  },
  {
   "cell_type": "code",
   "execution_count": null,
   "metadata": {},
   "outputs": [],
   "source": [
    "# # settings = {\"units\": \"metric\", \"appid\": api_key}\n",
    "# # cityWeather = pd.DataFrame()\n",
    "# # loop the cities and pull the response\n",
    "# # put the returned data into a dataframe\n",
    "# # vList =[['name','temp','wind','clouds','humidity','lat']]\n",
    "# listAddress = [['id','City','Address','lat','lon']]\n",
    "\n",
    "# for index, row in dfLL.head(n=3).iterrows():\n",
    "# # for city in cities:\n",
    "#     try:\n",
    "#         latLon = str(row.latitude) +',' + str(row.longitude)\n",
    "#         location = geolocator.reverse(latLon)\n",
    "# #     print(location)\n",
    "#         addList = [row.id, row.city, location[0], row.latitude, row.longitude]\n",
    "# #         print (addList)\n",
    "#         listAddress.append(addList)\n",
    "#     except:\n",
    "# #         print(\"An exception occurred for \" + row.city)\n",
    "# # listAddress"
   ]
  },
  {
   "cell_type": "code",
   "execution_count": null,
   "metadata": {},
   "outputs": [],
   "source": [
    "# df = pd.DataFrame(listAddress,columns=['id','City','Address', 'lat','lon'])\n",
    "# df = df[df.City != 'City']\n",
    "# df"
   ]
  },
  {
   "cell_type": "code",
   "execution_count": 19,
   "metadata": {},
   "outputs": [],
   "source": [
    "# for x = 1 to 50\n",
    "#     print(x)"
   ]
  },
  {
   "cell_type": "code",
   "execution_count": 20,
   "metadata": {},
   "outputs": [],
   "source": [
    "# a = ['foo', 'bar', 'baz']\n",
    "# for i to a:\n",
    "#     print(i)"
   ]
  },
  {
   "cell_type": "code",
   "execution_count": null,
   "metadata": {},
   "outputs": [],
   "source": []
  }
 ],
 "metadata": {
  "kernelspec": {
   "display_name": "Python 3",
   "language": "python",
   "name": "python3"
  },
  "language_info": {
   "codemirror_mode": {
    "name": "ipython",
    "version": 3
   },
   "file_extension": ".py",
   "mimetype": "text/x-python",
   "name": "python",
   "nbconvert_exporter": "python",
   "pygments_lexer": "ipython3",
   "version": "3.7.3"
  }
 },
 "nbformat": 4,
 "nbformat_minor": 2
}
