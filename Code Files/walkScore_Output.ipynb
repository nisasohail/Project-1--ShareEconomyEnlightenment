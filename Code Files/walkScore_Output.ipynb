{
 "cells": [
  {
   "cell_type": "code",
   "execution_count": 20,
   "metadata": {},
   "outputs": [],
   "source": [
    "import gmaps\n",
    "import numpy as np\n",
    "import pandas as pd\n",
    "from shapely.geometry import Point, Polygon\n",
    "import matplotlib.pyplot as plt\n",
    "import geopandas as gpd\n",
    "import requests\n",
    "import json\n",
    "import os\n",
    "%matplotlib inline\n",
    "# todo:\n",
    "# return the address of each record\n",
    "# 1. get all street address from google api\n",
    "#     a. for each lat lon, pull back the address\n",
    "#     b. add the addresses to a dataframe\n",
    "#     c. output that dataframe in to a CSV? \n",
    "#         a. could just have it then feed the walkscore api and pull back the score adding that to the dataframe as well\n",
    "from config import walkKey"
   ]
  },
  {
   "cell_type": "code",
   "execution_count": 16,
   "metadata": {},
   "outputs": [
    {
     "name": "stdout",
     "output_type": "stream",
     "text": [
      "Collecting package metadata: ...working... done\n",
      "Solving environment: ...working... done\n",
      "\n",
      "## Package Plan ##\n",
      "\n",
      "  environment location: C:\\Users\\Nader\\Anaconda3\n",
      "\n",
      "  added / updated specs:\n",
      "    - shapely\n",
      "\n",
      "\n",
      "The following packages will be downloaded:\n",
      "\n",
      "    package                    |            build\n",
      "    ---------------------------|-----------------\n",
      "    conda-4.7.9                |           py37_0         3.0 MB\n",
      "    conda-package-handling-1.3.11|           py37_0         280 KB\n",
      "    geos-3.7.1                 |       h33f27b4_0         860 KB\n",
      "    shapely-1.6.4              |   py37h222a598_0         309 KB\n",
      "    ------------------------------------------------------------\n",
      "                                           Total:         4.5 MB\n",
      "\n",
      "The following NEW packages will be INSTALLED:\n",
      "\n",
      "  conda-package-han~ pkgs/main/win-64::conda-package-handling-1.3.11-py37_0\n",
      "  geos               pkgs/main/win-64::geos-3.7.1-h33f27b4_0\n",
      "  shapely            pkgs/main/win-64::shapely-1.6.4-py37h222a598_0\n",
      "\n",
      "The following packages will be UPDATED:\n",
      "\n",
      "  conda                                       4.6.11-py37_0 --> 4.7.9-py37_0\n",
      "\n",
      "\n",
      "\n",
      "Downloading and Extracting Packages\n",
      "\n",
      "shapely-1.6.4        | 309 KB    |            |   0% \n",
      "shapely-1.6.4        | 309 KB    | ########1  |  81% \n",
      "shapely-1.6.4        | 309 KB    | ########## | 100% \n",
      "\n",
      "conda-package-handli | 280 KB    |            |   0% \n",
      "conda-package-handli | 280 KB    | ########1  |  81% \n",
      "conda-package-handli | 280 KB    | ########## | 100% \n",
      "\n",
      "conda-4.7.9          | 3.0 MB    |            |   0% \n",
      "conda-4.7.9          | 3.0 MB    | 7          |   7% \n",
      "conda-4.7.9          | 3.0 MB    | ##         |  20% \n",
      "conda-4.7.9          | 3.0 MB    | ###4       |  35% \n",
      "conda-4.7.9          | 3.0 MB    | #####      |  51% \n",
      "conda-4.7.9          | 3.0 MB    | ######8    |  68% \n",
      "conda-4.7.9          | 3.0 MB    | ########   |  80% \n",
      "conda-4.7.9          | 3.0 MB    | #########2 |  93% \n",
      "conda-4.7.9          | 3.0 MB    | ########## | 100% \n",
      "\n",
      "geos-3.7.1           | 860 KB    |            |   0% \n",
      "geos-3.7.1           | 860 KB    | ###4       |  35% \n",
      "geos-3.7.1           | 860 KB    | ########   |  80% \n",
      "geos-3.7.1           | 860 KB    | ########## | 100% \n",
      "Preparing transaction: ...working... done\n",
      "Verifying transaction: ...working... done\n",
      "Executing transaction: ...working... done\n",
      "\n",
      "(base) C:\\Users\\Nader\\OneDrive\\Education\\SMU Data Science\\Project_All_1\\ShareEconomyEnlightenment>ET _sysp=%~dpA \n",
      "\n",
      "(base) C:\\Users\\Nader\\OneDrive\\Education\\SMU Data Science\\Project_All_1\\ShareEconomyEnlightenment>IF NOT EXIST \"!_sysp!\\Scripts\\conda.exe\" \n",
      "Collecting package metadata (repodata.json): ...working... done\n",
      "Solving environment: ...working... done\n",
      "\n",
      "# All requested packages already installed.\n",
      "\n",
      "\n",
      "Note: you may need to restart the kernel to use updated packages.\n"
     ]
    },
    {
     "name": "stderr",
     "output_type": "stream",
     "text": [
      "WARNING: The conda.compat module is deprecated and will be removed in a future release.\n",
      "'ET' is not recognized as an internal or external command,\n",
      "operable program or batch file.\n"
     ]
    }
   ],
   "source": [
    "conda install shapely"
   ]
  },
  {
   "cell_type": "code",
   "execution_count": 19,
   "metadata": {},
   "outputs": [
    {
     "name": "stdout",
     "output_type": "stream",
     "text": [
      "Collecting package metadata (repodata.json): ...working... done\n",
      "Solving environment: ...working... done\n",
      "\n",
      "## Package Plan ##\n",
      "\n",
      "  environment location: C:\\Users\\Nader\\Anaconda3\n",
      "\n",
      "  added / updated specs:\n",
      "    - geopandas\n",
      "\n",
      "\n",
      "The following packages will be downloaded:\n",
      "\n",
      "    package                    |            build\n",
      "    ---------------------------|-----------------\n",
      "    click-plugins-1.1.1        |             py_0          11 KB\n",
      "    cligj-0.5.0                |           py37_0          12 KB\n",
      "    descartes-1.1.0            |           py37_0           9 KB\n",
      "    expat-2.2.5                |       he025d50_0          91 KB\n",
      "    fiona-1.8.4                |   py37h22081e2_0         953 KB\n",
      "    freexl-1.0.5               |       hfa6e2cd_0          57 KB\n",
      "    gdal-2.3.3                 |   py37hdf43c64_0         1.4 MB\n",
      "    geopandas-0.4.1            |             py_0         891 KB\n",
      "    hdf4-4.2.13                |       h712560f_2         2.7 MB\n",
      "    kealib-1.4.7               |       h07cbb95_6         158 KB\n",
      "    libboost-1.67.0            |       hd9e427e_4        31.8 MB\n",
      "    libgdal-2.3.3              |       h10f50ba_0         8.7 MB\n",
      "    libkml-1.3.0               |       he5f2a48_4        54.9 MB\n",
      "    libnetcdf-4.6.1            |       h411e497_2         593 KB\n",
      "    libpq-11.2                 |       h3235a2c_0         3.5 MB\n",
      "    libspatialindex-1.8.5      |       h6538335_2         324 KB\n",
      "    libspatialite-4.3.0a       |      hc36aec2_19         3.9 MB\n",
      "    mapclassify-2.0.1          |             py_0          26 KB\n",
      "    munch-2.3.2                |           py37_0          13 KB\n",
      "    pcre-8.43                  |       ha925a31_0         511 KB\n",
      "    proj4-5.2.0                |       ha925a31_1         3.4 MB\n",
      "    psycopg2-2.7.6.1           |   py37h7a1dbc1_0         315 KB\n",
      "    pyproj-1.9.6               |   py37h6782396_0         254 KB\n",
      "    rtree-0.8.3                |           py37_0          46 KB\n",
      "    xerces-c-3.2.2             |       ha925a31_0         4.1 MB\n",
      "    ------------------------------------------------------------\n",
      "                                           Total:       118.6 MB\n",
      "\n",
      "The following NEW packages will be INSTALLED:\n",
      "\n",
      "  click-plugins      pkgs/main/noarch::click-plugins-1.1.1-py_0\n",
      "  cligj              pkgs/main/win-64::cligj-0.5.0-py37_0\n",
      "  descartes          pkgs/main/win-64::descartes-1.1.0-py37_0\n",
      "  expat              pkgs/main/win-64::expat-2.2.5-he025d50_0\n",
      "  fiona              pkgs/main/win-64::fiona-1.8.4-py37h22081e2_0\n",
      "  freexl             pkgs/main/win-64::freexl-1.0.5-hfa6e2cd_0\n",
      "  gdal               pkgs/main/win-64::gdal-2.3.3-py37hdf43c64_0\n",
      "  geopandas          pkgs/main/noarch::geopandas-0.4.1-py_0\n",
      "  hdf4               pkgs/main/win-64::hdf4-4.2.13-h712560f_2\n",
      "  kealib             pkgs/main/win-64::kealib-1.4.7-h07cbb95_6\n",
      "  libboost           pkgs/main/win-64::libboost-1.67.0-hd9e427e_4\n",
      "  libgdal            pkgs/main/win-64::libgdal-2.3.3-h10f50ba_0\n",
      "  libkml             pkgs/main/win-64::libkml-1.3.0-he5f2a48_4\n",
      "  libnetcdf          pkgs/main/win-64::libnetcdf-4.6.1-h411e497_2\n",
      "  libpq              pkgs/main/win-64::libpq-11.2-h3235a2c_0\n",
      "  libspatialindex    pkgs/main/win-64::libspatialindex-1.8.5-h6538335_2\n",
      "  libspatialite      pkgs/main/win-64::libspatialite-4.3.0a-hc36aec2_19\n",
      "  mapclassify        pkgs/main/noarch::mapclassify-2.0.1-py_0\n",
      "  munch              pkgs/main/win-64::munch-2.3.2-py37_0\n",
      "  pcre               pkgs/main/win-64::pcre-8.43-ha925a31_0\n",
      "  proj4              pkgs/main/win-64::proj4-5.2.0-ha925a31_1\n",
      "  psycopg2           pkgs/main/win-64::psycopg2-2.7.6.1-py37h7a1dbc1_0\n",
      "  pyproj             pkgs/main/win-64::pyproj-1.9.6-py37h6782396_0\n",
      "  rtree              pkgs/main/win-64::rtree-0.8.3-py37_0\n",
      "  xerces-c           pkgs/main/win-64::xerces-c-3.2.2-ha925a31_0\n",
      "\n",
      "\n",
      "\n",
      "Downloading and Extracting Packages\n",
      "\n",
      "kealib-1.4.7         | 158 KB    |            |   0% \n",
      "kealib-1.4.7         | 158 KB    | #          |  10% \n",
      "kealib-1.4.7         | 158 KB    | ########## | 100% \n",
      "\n",
      "libpq-11.2           | 3.5 MB    |            |   0% \n",
      "libpq-11.2           | 3.5 MB    | #6         |  17% \n",
      "libpq-11.2           | 3.5 MB    | ######8    |  68% \n",
      "libpq-11.2           | 3.5 MB    | ########## | 100% \n",
      "\n",
      "pcre-8.43            | 511 KB    |            |   0% \n",
      "pcre-8.43            | 511 KB    | ########## | 100% \n",
      "\n",
      "cligj-0.5.0          | 12 KB     |            |   0% \n",
      "cligj-0.5.0          | 12 KB     | ########## | 100% \n",
      "\n",
      "libspatialindex-1.8. | 324 KB    |            |   0% \n",
      "libspatialindex-1.8. | 324 KB    | 4          |   5% \n",
      "libspatialindex-1.8. | 324 KB    | ########## | 100% \n",
      "\n",
      "descartes-1.1.0      | 9 KB      |            |   0% \n",
      "descartes-1.1.0      | 9 KB      | ########## | 100% \n",
      "\n",
      "libboost-1.67.0      | 31.8 MB   |            |   0% \n",
      "libboost-1.67.0      | 31.8 MB   | 4          |   5% \n",
      "libboost-1.67.0      | 31.8 MB   | #1         |  12% \n",
      "libboost-1.67.0      | 31.8 MB   | #9         |  20% \n",
      "libboost-1.67.0      | 31.8 MB   | ##8        |  28% \n",
      "libboost-1.67.0      | 31.8 MB   | ###7       |  38% \n",
      "libboost-1.67.0      | 31.8 MB   | ####6      |  47% \n",
      "libboost-1.67.0      | 31.8 MB   | #####5     |  56% \n",
      "libboost-1.67.0      | 31.8 MB   | ######4    |  65% \n",
      "libboost-1.67.0      | 31.8 MB   | #######4   |  74% \n",
      "libboost-1.67.0      | 31.8 MB   | ########3  |  83% \n",
      "libboost-1.67.0      | 31.8 MB   | #########2 |  92% \n",
      "libboost-1.67.0      | 31.8 MB   | ########## | 100% \n",
      "\n",
      "geopandas-0.4.1      | 891 KB    |            |   0% \n",
      "geopandas-0.4.1      | 891 KB    | ########## | 100% \n",
      "\n",
      "freexl-1.0.5         | 57 KB     |            |   0% \n",
      "freexl-1.0.5         | 57 KB     | ########## | 100% \n",
      "\n",
      "munch-2.3.2          | 13 KB     |            |   0% \n",
      "munch-2.3.2          | 13 KB     | ########## | 100% \n",
      "\n",
      "rtree-0.8.3          | 46 KB     |            |   0% \n",
      "rtree-0.8.3          | 46 KB     | ########## | 100% \n",
      "\n",
      "proj4-5.2.0          | 3.4 MB    |            |   0% \n",
      "proj4-5.2.0          | 3.4 MB    | #####4     |  55% \n",
      "proj4-5.2.0          | 3.4 MB    | ########## | 100% \n",
      "\n",
      "libnetcdf-4.6.1      | 593 KB    |            |   0% \n",
      "libnetcdf-4.6.1      | 593 KB    | ########## | 100% \n",
      "\n",
      "fiona-1.8.4          | 953 KB    |            |   0% \n",
      "fiona-1.8.4          | 953 KB    | ########## | 100% \n",
      "\n",
      "xerces-c-3.2.2       | 4.1 MB    |            |   0% \n",
      "xerces-c-3.2.2       | 4.1 MB    | #6         |  16% \n",
      "xerces-c-3.2.2       | 4.1 MB    | ########3  |  83% \n",
      "xerces-c-3.2.2       | 4.1 MB    | ########## | 100% \n",
      "\n",
      "expat-2.2.5          | 91 KB     |            |   0% \n",
      "expat-2.2.5          | 91 KB     | #7         |  18% \n",
      "expat-2.2.5          | 91 KB     | ########## | 100% \n",
      "\n",
      "psycopg2-2.7.6.1     | 315 KB    |            |   0% \n",
      "psycopg2-2.7.6.1     | 315 KB    | 5          |   5% \n",
      "psycopg2-2.7.6.1     | 315 KB    | ########## | 100% \n",
      "\n",
      "gdal-2.3.3           | 1.4 MB    |            |   0% \n",
      "gdal-2.3.3           | 1.4 MB    | ########## | 100% \n",
      "\n",
      "libspatialite-4.3.0a | 3.9 MB    |            |   0% \n",
      "libspatialite-4.3.0a | 3.9 MB    | #####5     |  56% \n",
      "libspatialite-4.3.0a | 3.9 MB    | ########## | 100% \n",
      "\n",
      "click-plugins-1.1.1  | 11 KB     |            |   0% \n",
      "click-plugins-1.1.1  | 11 KB     | ########## | 100% \n",
      "\n",
      "hdf4-4.2.13          | 2.7 MB    |            |   0% \n",
      "hdf4-4.2.13          | 2.7 MB    | #######5   |  75% \n",
      "hdf4-4.2.13          | 2.7 MB    | ########## | 100% \n",
      "\n",
      "libkml-1.3.0         | 54.9 MB   |            |   0% \n",
      "libkml-1.3.0         | 54.9 MB   | 3          |   4% \n",
      "libkml-1.3.0         | 54.9 MB   | 8          |   9% \n",
      "libkml-1.3.0         | 54.9 MB   | #4         |  14% \n",
      "libkml-1.3.0         | 54.9 MB   | #9         |  19% \n",
      "libkml-1.3.0         | 54.9 MB   | ##4        |  25% \n",
      "libkml-1.3.0         | 54.9 MB   | ##9        |  29% \n",
      "libkml-1.3.0         | 54.9 MB   | ###4       |  35% \n",
      "libkml-1.3.0         | 54.9 MB   | ####       |  40% \n",
      "libkml-1.3.0         | 54.9 MB   | ####5      |  46% \n",
      "libkml-1.3.0         | 54.9 MB   | #####      |  50% \n",
      "libkml-1.3.0         | 54.9 MB   | #####5     |  56% \n",
      "libkml-1.3.0         | 54.9 MB   | ######     |  61% \n",
      "libkml-1.3.0         | 54.9 MB   | ######6    |  66% \n",
      "libkml-1.3.0         | 54.9 MB   | #######    |  71% \n",
      "libkml-1.3.0         | 54.9 MB   | #######6   |  76% \n",
      "libkml-1.3.0         | 54.9 MB   | ########1  |  81% \n",
      "libkml-1.3.0         | 54.9 MB   | ########5  |  86% \n",
      "libkml-1.3.0         | 54.9 MB   | #########3 |  93% \n",
      "libkml-1.3.0         | 54.9 MB   | #########8 |  99% \n",
      "libkml-1.3.0         | 54.9 MB   | ########## | 100% \n",
      "\n",
      "libgdal-2.3.3        | 8.7 MB    |            |   0% \n",
      "libgdal-2.3.3        | 8.7 MB    | 2          |   3% \n",
      "libgdal-2.3.3        | 8.7 MB    | ###5       |  36% \n",
      "libgdal-2.3.3        | 8.7 MB    | ######7    |  67% \n",
      "libgdal-2.3.3        | 8.7 MB    | ########## | 100% \n",
      "\n",
      "pyproj-1.9.6         | 254 KB    |            |   0% \n",
      "pyproj-1.9.6         | 254 KB    | ########## | 100% \n",
      "\n",
      "mapclassify-2.0.1    | 26 KB     |            |   0% \n",
      "mapclassify-2.0.1    | 26 KB     | ########## | 100% \n",
      "Preparing transaction: ...working... done\n",
      "Verifying transaction: ...working... done\n",
      "Executing transaction: ...working... done\n",
      "\n",
      "Note: you may need to restart the kernel to use updated packages.\n"
     ]
    }
   ],
   "source": [
    "conda install geopandas"
   ]
  },
  {
   "cell_type": "code",
   "execution_count": 22,
   "metadata": {},
   "outputs": [
    {
     "data": {
      "text/html": [
       "<div>\n",
       "<style scoped>\n",
       "    .dataframe tbody tr th:only-of-type {\n",
       "        vertical-align: middle;\n",
       "    }\n",
       "\n",
       "    .dataframe tbody tr th {\n",
       "        vertical-align: top;\n",
       "    }\n",
       "\n",
       "    .dataframe thead th {\n",
       "        text-align: right;\n",
       "    }\n",
       "</style>\n",
       "<table border=\"1\" class=\"dataframe\">\n",
       "  <thead>\n",
       "    <tr style=\"text-align: right;\">\n",
       "      <th></th>\n",
       "      <th>Unnamed: 0</th>\n",
       "      <th>id</th>\n",
       "      <th>City</th>\n",
       "      <th>Address</th>\n",
       "      <th>lat</th>\n",
       "      <th>lon</th>\n",
       "    </tr>\n",
       "  </thead>\n",
       "  <tbody>\n",
       "    <tr>\n",
       "      <th>0</th>\n",
       "      <td>1</td>\n",
       "      <td>4</td>\n",
       "      <td>Bryan</td>\n",
       "      <td>775, Inwood Drive, Bryan, Brazos County, Texas...</td>\n",
       "      <td>30.637304</td>\n",
       "      <td>-96.337846</td>\n",
       "    </tr>\n",
       "    <tr>\n",
       "      <th>1</th>\n",
       "      <td>2</td>\n",
       "      <td>6</td>\n",
       "      <td>Conroe</td>\n",
       "      <td>9163, Red Stag, Montgomery County, Texas, 7730...</td>\n",
       "      <td>30.370455</td>\n",
       "      <td>-95.385319</td>\n",
       "    </tr>\n",
       "  </tbody>\n",
       "</table>\n",
       "</div>"
      ],
      "text/plain": [
       "   Unnamed: 0  id    City                                            Address  \\\n",
       "0           1   4   Bryan  775, Inwood Drive, Bryan, Brazos County, Texas...   \n",
       "1           2   6  Conroe  9163, Red Stag, Montgomery County, Texas, 7730...   \n",
       "\n",
       "         lat        lon  \n",
       "0  30.637304 -96.337846  \n",
       "1  30.370455 -95.385319  "
      ]
     },
     "execution_count": 22,
     "metadata": {},
     "output_type": "execute_result"
    }
   ],
   "source": [
    "listingdf = pd.read_csv(\"../ShareEconomyEnlightenment/Resources/Airbnb_Texas_Rentals_address_FULL.csv\")\n",
    "listingdf.head(2)"
   ]
  },
  {
   "cell_type": "code",
   "execution_count": 24,
   "metadata": {},
   "outputs": [],
   "source": [
    "lstScore = [['id','WalkScore', 'description']]\n",
    "\n",
    "for index, row in listingdf.head(9).iterrows():\n",
    "    try:\n",
    "        lat = str(row.lat)\n",
    "        lon = str(row.lon)\n",
    "        adrs = row.Address\n",
    "        url = 'http://api.walkscore.com/score?format=json&address=' + adrs + '&lat=' + lat + '&lon=' + lon + '&transit=1&bike=1&wsapikey=' + walkKey\n",
    "        resp = requests.get(url=url)\n",
    "        data = resp.json()\n",
    "        wScore = data['walkscore']\n",
    "        dScore = data['description']\n",
    "        addScore = [row.id, wScore, dScore]\n",
    "        lstScore.append(addScore)\n",
    "    except:\n",
    "        print(url)\n",
    "        print(f'error finding walk score for {row.Address}')\n",
    "        print(index)"
   ]
  },
  {
   "cell_type": "code",
   "execution_count": 25,
   "metadata": {},
   "outputs": [
    {
     "name": "stdout",
     "output_type": "stream",
     "text": [
      "['Car-Dependent' 'Very Walkable']\n",
      "   id WalkScore    description\n",
      "1   4        30  Car-Dependent\n",
      "2   6         0  Car-Dependent\n",
      "3   8        14  Car-Dependent\n",
      "4   9         7  Car-Dependent\n",
      "5  11        39  Car-Dependent\n",
      "6  13         0  Car-Dependent\n",
      "7  15        15  Car-Dependent\n",
      "8  17        81  Very Walkable\n",
      "9  18        21  Car-Dependent\n"
     ]
    }
   ],
   "source": [
    "df = pd.DataFrame(lstScore,columns=['id','WalkScore','description'])\n",
    "df = df[df.id != 'id']\n",
    "print(df.description.unique())\n",
    "print(df)"
   ]
  },
  {
   "cell_type": "code",
   "execution_count": 42,
   "metadata": {},
   "outputs": [],
   "source": [
    "# this line was used to write the csv used for making the visualizations\n",
    "# df.to_csv(r'../ShareEconomyEnlightenment/Resources/Airbnb_Texas_Rentals_WalkScores.csv')"
   ]
  },
  {
   "cell_type": "code",
   "execution_count": 26,
   "metadata": {},
   "outputs": [
    {
     "data": {
      "text/html": [
       "<div>\n",
       "<style scoped>\n",
       "    .dataframe tbody tr th:only-of-type {\n",
       "        vertical-align: middle;\n",
       "    }\n",
       "\n",
       "    .dataframe tbody tr th {\n",
       "        vertical-align: top;\n",
       "    }\n",
       "\n",
       "    .dataframe thead th {\n",
       "        text-align: right;\n",
       "    }\n",
       "</style>\n",
       "<table border=\"1\" class=\"dataframe\">\n",
       "  <thead>\n",
       "    <tr style=\"text-align: right;\">\n",
       "      <th></th>\n",
       "      <th>Unnamed: 0</th>\n",
       "      <th>id</th>\n",
       "      <th>WalkScore</th>\n",
       "      <th>description</th>\n",
       "    </tr>\n",
       "  </thead>\n",
       "  <tbody>\n",
       "    <tr>\n",
       "      <th>0</th>\n",
       "      <td>1</td>\n",
       "      <td>4</td>\n",
       "      <td>30</td>\n",
       "      <td>Car-Dependent</td>\n",
       "    </tr>\n",
       "    <tr>\n",
       "      <th>1</th>\n",
       "      <td>2</td>\n",
       "      <td>6</td>\n",
       "      <td>0</td>\n",
       "      <td>Car-Dependent</td>\n",
       "    </tr>\n",
       "  </tbody>\n",
       "</table>\n",
       "</div>"
      ],
      "text/plain": [
       "   Unnamed: 0  id  WalkScore    description\n",
       "0           1   4         30  Car-Dependent\n",
       "1           2   6          0  Car-Dependent"
      ]
     },
     "execution_count": 26,
     "metadata": {},
     "output_type": "execute_result"
    }
   ],
   "source": [
    "df = pd.read_csv(\"../ShareEconomyEnlightenment/Resources/Airbnb_Texas_Rentals_WalkScores.csv\")\n",
    "df.head(2)"
   ]
  },
  {
   "cell_type": "code",
   "execution_count": null,
   "metadata": {},
   "outputs": [],
   "source": []
  },
  {
   "cell_type": "code",
   "execution_count": 33,
   "metadata": {},
   "outputs": [],
   "source": [
    "# lstScore = [['id','WalkScore', 'description']]\n",
    "\n",
    "# for index, row in listingdf.head(5).iterrows():\n",
    "#     try:\n",
    "#         lat = str(row.lat)\n",
    "#         lon = str(row.lon)\n",
    "#         adrs = row.Address\n",
    "#         url = 'http://api.walkscore.com/score?format=json&address=' + adrs + '&lat=' + lat + '&lon=' + lon + '&transit=1&bike=1&wsapikey=' + walkKey\n",
    "#         resp = requests.get(url=url)\n",
    "#         data = resp.json()\n",
    "#         wScore = data['walkscore']\n",
    "#         dScore = data['description']\n",
    "#         addScore = [row.id, wScore, dScore]\n",
    "#         lstScore.append(addScore)\n",
    "#     except:\n",
    "#         print(url)\n",
    "#         print(f'error finding walk score for {row.Address}')\n",
    "#         print(index)"
   ]
  },
  {
   "cell_type": "code",
   "execution_count": null,
   "metadata": {},
   "outputs": [],
   "source": [
    "# url = \"http://api.walkscore.com/score?format=json&address=1119%8th%20Avenue%20Seattle%20WA%2098101&lat=47.6085&lon=-122.3295&transit=1&bike=1&wsapikey=abdf265c4ea1d70b9455f497fe2cb921\"\n",
    "# url = 'http://api.walkscore.com/score?format=json&address=' + adrs + '&lat=' + lat + '&lon=' + lon + '&transit=1&bike=1&wsapikey=' + walkKey"
   ]
  },
  {
   "cell_type": "code",
   "execution_count": 50,
   "metadata": {
    "scrolled": false
   },
   "outputs": [],
   "source": [
    "# lstScore"
   ]
  },
  {
   "cell_type": "code",
   "execution_count": null,
   "metadata": {},
   "outputs": [],
   "source": [
    "# df = pd.DataFrame(lstScore,columns=['id','WalkScore','description'])\n",
    "# df = df[df.id != 'id']\n",
    "# df.description.unique()"
   ]
  },
  {
   "cell_type": "code",
   "execution_count": 47,
   "metadata": {},
   "outputs": [],
   "source": [
    "\n",
    "# df = pd.read_csv(\"../ShareEconomyEnlightenment/Resources/Airbnb_Texas_Rentals_WalkScores.csv\")\n",
    "# df.head(2)"
   ]
  },
  {
   "cell_type": "code",
   "execution_count": 26,
   "metadata": {},
   "outputs": [],
   "source": [
    "# dfMap = df.merge(listingdf, on='id')"
   ]
  },
  {
   "cell_type": "code",
   "execution_count": 48,
   "metadata": {},
   "outputs": [],
   "source": [
    "# dfMap.head()"
   ]
  },
  {
   "cell_type": "code",
   "execution_count": 49,
   "metadata": {},
   "outputs": [],
   "source": [
    "# dfPlot = dfMap[['id','description','lat','lon']]\n",
    "# dfPlot.columns"
   ]
  },
  {
   "cell_type": "code",
   "execution_count": null,
   "metadata": {},
   "outputs": [],
   "source": []
  },
  {
   "cell_type": "code",
   "execution_count": 7,
   "metadata": {},
   "outputs": [],
   "source": [
    "# dfPlot.columns = ['id','description','Latitude','Longitude']\n",
    "# dfPlots = dfPlot.rename(columns={'lat':'Latitude','lon':'Longitude'})\n",
    "# >gapminder.rename(columns={'pop':'population',\n",
    "#                           'lifeExp':'life_exp',\n",
    "#                           'gdpPercap':'gdp_per_cap'}, \n",
    "# dfPlots"
   ]
  },
  {
   "cell_type": "code",
   "execution_count": null,
   "metadata": {},
   "outputs": [],
   "source": [
    "# dfExample = pd.DataFrame(\n",
    "#     {'City': ['Buenos Aires', 'Brasilia', 'Santiago', 'Bogota', 'Caracas'],\n",
    "#      'Country': ['Argentina', 'Brazil', 'Chile', 'Colombia', 'Venezuela'],\n",
    "#      'Latitude': [-34.58, -15.78, -33.45, 4.60, 10.48],\n",
    "#      'Longitude': [-58.66, -47.91, -70.66, -74.08, -66.86]})"
   ]
  },
  {
   "cell_type": "code",
   "execution_count": null,
   "metadata": {},
   "outputs": [],
   "source": [
    "# dfExample"
   ]
  },
  {
   "cell_type": "code",
   "execution_count": 8,
   "metadata": {},
   "outputs": [],
   "source": [
    "# gdf = gpd.GeoDataFrame(\n",
    "#     dfExample, geometry=gpd.points_from_xy(dfExample.Longitude, dfExample.Latitude))\n",
    "# dfPlot = dfPlot.drop(['lon', 'lat'], axis=1)\n",
    "# crs = {'init': 'epsg:4326'}\n",
    "# gdf = gpd.GeoDataFrame(df, crs=crs, geometry=geometry)\n",
    "# gdf2 = gpd.GeoDataFrame(\n",
    "#     dfPlots, geometry=gpd.points_from_xy(dfPlots.Longitude, dfPlots.Latitude))"
   ]
  },
  {
   "cell_type": "code",
   "execution_count": 9,
   "metadata": {},
   "outputs": [],
   "source": [
    "# # get the polygons of all the \n",
    "# texasUrl = 'http://data.cityofdenton.com/dataset/0c4fcbc0-6c9a-4c76-98e2-d29f918e31c6/resource/be1b384f-3b2e-4238-88a8-4410cb36f7fc/download/c8efcc13-b5b4-48b5-9873-933844822d6ctexascounties.geojson'\n",
    "# resp = requests.get(url=texasUrl)\n",
    "# data = resp.json()\n",
    "\n",
    "# with open('../ShareEconomyEnlightenment/Resources/data.geojson', 'w') as outfile:\n",
    "#     json.dump(data, outfile)"
   ]
  },
  {
   "cell_type": "code",
   "execution_count": 10,
   "metadata": {},
   "outputs": [],
   "source": [
    "# counties = gpd.read_file('../ShareEconomyEnlightenment/Resources/data.geojson')"
   ]
  },
  {
   "cell_type": "code",
   "execution_count": 22,
   "metadata": {},
   "outputs": [],
   "source": [
    "# counties.head(3)"
   ]
  },
  {
   "cell_type": "code",
   "execution_count": 23,
   "metadata": {
    "scrolled": true
   },
   "outputs": [],
   "source": [
    "# type(counties)\n",
    "# counties.geometry.area\n",
    "# counties.geometry.plot(figsize=(10,10))"
   ]
  },
  {
   "cell_type": "code",
   "execution_count": 24,
   "metadata": {},
   "outputs": [],
   "source": [
    "# gdf2.plot(figsize=(10,10))"
   ]
  },
  {
   "cell_type": "code",
   "execution_count": 20,
   "metadata": {},
   "outputs": [],
   "source": [
    "# ax = gdf2.plot(figsize=(10,10),cmap='tab10',alpha=0.5)\n",
    "\n",
    "# ax.set_axis_off()\n",
    "\n",
    "# import matplotlib.pyplot as plt\n",
    "# # img = plt.imread(\"airlines.jpg\")\n",
    "# fig, ax = plt.subplots()\n",
    "# # ax.imshow(img)"
   ]
  },
  {
   "cell_type": "code",
   "execution_count": 25,
   "metadata": {},
   "outputs": [],
   "source": [
    "\n",
    "# gmaps.configure(api_key=gkey)\n",
    "# figure_layout = {\n",
    "#     'width': '400px',\n",
    "#     'height': '300px',\n",
    "#     'border': '1px solid black',\n",
    "#     'padding': '1px',\n",
    "#     'margin': '0 auto 0 auto'\n",
    "# }\n",
    "\n",
    "# fig = gmaps.figure(layout=figure_layout)\n",
    "\n",
    "# # dfPlot = dfMap[['id','description','lat','lon']]\n",
    "# gdf3 = gdf2[['Latitude','Longitude']]\n",
    "# # Assign the marker layer to a variable\n",
    "# markers = gmaps.marker_layer(gdf3)\n",
    "# # Add the layer to the map\n",
    "# fig.add_layer(markers)\n",
    "# fig"
   ]
  },
  {
   "cell_type": "code",
   "execution_count": null,
   "metadata": {},
   "outputs": [],
   "source": [
    "# world = gpd.read_file('')\n",
    "\n",
    "# # We restrict to South America.\n",
    "# ax = world[world.continent == 'South America'].plot(\n",
    "#     color='white', edgecolor='black')\n",
    "\n",
    "# # We can now plot our GeoDataFrame.\n",
    "# gdf.plot(ax=ax, color='red')\n",
    "\n",
    "# plt.show()"
   ]
  },
  {
   "cell_type": "code",
   "execution_count": null,
   "metadata": {},
   "outputs": [],
   "source": []
  }
 ],
 "metadata": {
  "kernelspec": {
   "display_name": "Python 3",
   "language": "python",
   "name": "python3"
  },
  "language_info": {
   "codemirror_mode": {
    "name": "ipython",
    "version": 3
   },
   "file_extension": ".py",
   "mimetype": "text/x-python",
   "name": "python",
   "nbconvert_exporter": "python",
   "pygments_lexer": "ipython3",
   "version": "3.7.3"
  }
 },
 "nbformat": 4,
 "nbformat_minor": 2
}
